{
  "metadata": {
    "kernelspec": {
      "name": "python",
      "display_name": "Python (Pyodide)",
      "language": "python"
    },
    "language_info": {
      "codemirror_mode": {
        "name": "ipython",
        "version": 3
      },
      "file_extension": ".py",
      "mimetype": "text/x-python",
      "name": "python",
      "nbconvert_exporter": "python",
      "pygments_lexer": "ipython3",
      "version": "3.8.8"
    }
  },
  "nbformat_minor": 4,
  "nbformat": 4,
  "cells": [
    {
      "cell_type": "markdown",
      "source": "Trained a multi-layer feed-forward neural network to predict the type of wine. My network has one hidden layer. \nI used the `wine.csv` data with the goal of building a red or white wine classifier. Used all the features in the dataset, allowing the network to decide how to build the internal weighting system.\n\n Loaded the `wine.csv` data and prepared the data for analysis: Split the data into training and testing and normalize the features.\nTrained a logistic regression classifier to predict the type of wine (red vs. white). Reported the accuracy of the model. \nTrained a multi-layer feed-forward neural network to predict the type of wine, one hidded layer. \nTuned my neural network by trying different values for the learning rate and the number of neurons in the hidden layer. \nReported the accuracy of the best model I obtained in the previous step. \n\nDetermined what the best neural network structure and hyperparameter settings results in the best predictive capability",
      "metadata": {}
    },
    {
      "cell_type": "code",
      "source": "",
      "metadata": {},
      "execution_count": null,
      "outputs": []
    },
    {
      "cell_type": "code",
      "source": "SEED = 2005",
      "metadata": {},
      "execution_count": 1,
      "outputs": []
    },
    {
      "cell_type": "markdown",
      "source": "Import Python modules",
      "metadata": {}
    },
    {
      "cell_type": "code",
      "source": "import numpy as np\nimport pandas as pd\nfrom scipy.stats import norm\nimport matplotlib.pyplot as plt\nimport seaborn as sns\nfrom sklearn.preprocessing import StandardScaler\nfrom sklearn.metrics import confusion_matrix, accuracy_score, roc_curve, roc_auc_score\nfrom sklearn.model_selection import train_test_split\nfrom sklearn.metrics import confusion_matrix, accuracy_score, precision_score, recall_score, f1_score, roc_curve, roc_auc_score",
      "metadata": {},
      "execution_count": 2,
      "outputs": []
    },
    {
      "cell_type": "markdown",
      "source": "Set global options",
      "metadata": {}
    },
    {
      "cell_type": "code",
      "source": "import warnings\nwarnings.filterwarnings(\"ignore\")\npd.set_option(\"display.max_rows\", 500)\npd.set_option(\"display.max_columns\", 500)",
      "metadata": {},
      "execution_count": 3,
      "outputs": []
    },
    {
      "cell_type": "markdown",
      "source": "##train, tune and test sets",
      "metadata": {}
    },
    {
      "cell_type": "code",
      "source": "# read in: I stored csv files under the same directory as this notebook\ndf_wine = pd.read_csv(\"wine.csv\")",
      "metadata": {},
      "execution_count": 4,
      "outputs": []
    },
    {
      "cell_type": "code",
      "source": "df_wine.head()",
      "metadata": {},
      "execution_count": 5,
      "outputs": [
        {
          "execution_count": 5,
          "output_type": "execute_result",
          "data": {
            "text/html": [
              "<div>\n",
              "<style scoped>\n",
              "    .dataframe tbody tr th:only-of-type {\n",
              "        vertical-align: middle;\n",
              "    }\n",
              "\n",
              "    .dataframe tbody tr th {\n",
              "        vertical-align: top;\n",
              "    }\n",
              "\n",
              "    .dataframe thead th {\n",
              "        text-align: right;\n",
              "    }\n",
              "</style>\n",
              "<table border=\"1\" class=\"dataframe\">\n",
              "  <thead>\n",
              "    <tr style=\"text-align: right;\">\n",
              "      <th></th>\n",
              "      <th>fixed acidity</th>\n",
              "      <th>volatile acidity</th>\n",
              "      <th>citric acid</th>\n",
              "      <th>residual sugar</th>\n",
              "      <th>chlorides</th>\n",
              "      <th>free sulfur dioxide</th>\n",
              "      <th>total sulfur dioxide</th>\n",
              "      <th>density</th>\n",
              "      <th>pH</th>\n",
              "      <th>sulphates</th>\n",
              "      <th>alcohol</th>\n",
              "      <th>quality</th>\n",
              "      <th>Class</th>\n",
              "    </tr>\n",
              "  </thead>\n",
              "  <tbody>\n",
              "    <tr>\n",
              "      <th>0</th>\n",
              "      <td>7.4</td>\n",
              "      <td>0.70</td>\n",
              "      <td>0.00</td>\n",
              "      <td>1.9</td>\n",
              "      <td>0.076</td>\n",
              "      <td>11.0</td>\n",
              "      <td>34.0</td>\n",
              "      <td>0.9978</td>\n",
              "      <td>3.51</td>\n",
              "      <td>0.56</td>\n",
              "      <td>9.4</td>\n",
              "      <td>5</td>\n",
              "      <td>1</td>\n",
              "    </tr>\n",
              "    <tr>\n",
              "      <th>1</th>\n",
              "      <td>7.8</td>\n",
              "      <td>0.88</td>\n",
              "      <td>0.00</td>\n",
              "      <td>2.6</td>\n",
              "      <td>0.098</td>\n",
              "      <td>25.0</td>\n",
              "      <td>67.0</td>\n",
              "      <td>0.9968</td>\n",
              "      <td>3.20</td>\n",
              "      <td>0.68</td>\n",
              "      <td>9.8</td>\n",
              "      <td>5</td>\n",
              "      <td>1</td>\n",
              "    </tr>\n",
              "    <tr>\n",
              "      <th>2</th>\n",
              "      <td>7.8</td>\n",
              "      <td>0.76</td>\n",
              "      <td>0.04</td>\n",
              "      <td>2.3</td>\n",
              "      <td>0.092</td>\n",
              "      <td>15.0</td>\n",
              "      <td>54.0</td>\n",
              "      <td>0.9970</td>\n",
              "      <td>3.26</td>\n",
              "      <td>0.65</td>\n",
              "      <td>9.8</td>\n",
              "      <td>5</td>\n",
              "      <td>1</td>\n",
              "    </tr>\n",
              "    <tr>\n",
              "      <th>3</th>\n",
              "      <td>11.2</td>\n",
              "      <td>0.28</td>\n",
              "      <td>0.56</td>\n",
              "      <td>1.9</td>\n",
              "      <td>0.075</td>\n",
              "      <td>17.0</td>\n",
              "      <td>60.0</td>\n",
              "      <td>0.9980</td>\n",
              "      <td>3.16</td>\n",
              "      <td>0.58</td>\n",
              "      <td>9.8</td>\n",
              "      <td>6</td>\n",
              "      <td>1</td>\n",
              "    </tr>\n",
              "    <tr>\n",
              "      <th>4</th>\n",
              "      <td>7.4</td>\n",
              "      <td>0.70</td>\n",
              "      <td>0.00</td>\n",
              "      <td>1.9</td>\n",
              "      <td>0.076</td>\n",
              "      <td>11.0</td>\n",
              "      <td>34.0</td>\n",
              "      <td>0.9978</td>\n",
              "      <td>3.51</td>\n",
              "      <td>0.56</td>\n",
              "      <td>9.4</td>\n",
              "      <td>5</td>\n",
              "      <td>1</td>\n",
              "    </tr>\n",
              "  </tbody>\n",
              "</table>\n",
              "</div>"
            ],
            "text/plain": [
              "   fixed acidity  volatile acidity  citric acid  residual sugar  chlorides  \\\n",
              "0            7.4              0.70         0.00             1.9      0.076   \n",
              "1            7.8              0.88         0.00             2.6      0.098   \n",
              "2            7.8              0.76         0.04             2.3      0.092   \n",
              "3           11.2              0.28         0.56             1.9      0.075   \n",
              "4            7.4              0.70         0.00             1.9      0.076   \n",
              "\n",
              "   free sulfur dioxide  total sulfur dioxide  density    pH  sulphates  \\\n",
              "0                 11.0                  34.0   0.9978  3.51       0.56   \n",
              "1                 25.0                  67.0   0.9968  3.20       0.68   \n",
              "2                 15.0                  54.0   0.9970  3.26       0.65   \n",
              "3                 17.0                  60.0   0.9980  3.16       0.58   \n",
              "4                 11.0                  34.0   0.9978  3.51       0.56   \n",
              "\n",
              "   alcohol  quality  Class  \n",
              "0      9.4        5      1  \n",
              "1      9.8        5      1  \n",
              "2      9.8        5      1  \n",
              "3      9.8        6      1  \n",
              "4      9.4        5      1  "
            ]
          },
          "metadata": {}
        }
      ]
    },
    {
      "cell_type": "code",
      "source": "df_wine.info()",
      "metadata": {},
      "execution_count": 6,
      "outputs": [
        {
          "name": "stdout",
          "output_type": "stream",
          "text": "<class 'pandas.core.frame.DataFrame'>\n\nRangeIndex: 6497 entries, 0 to 6496\n\nData columns (total 13 columns):\n\n #   Column                Non-Null Count  Dtype  \n\n---  ------                --------------  -----  \n\n 0   fixed acidity         6497 non-null   float64\n\n 1   volatile acidity      6497 non-null   float64\n\n 2   citric acid           6497 non-null   float64\n\n 3   residual sugar        6497 non-null   float64\n\n 4   chlorides             6497 non-null   float64\n\n 5   free sulfur dioxide   6497 non-null   float64\n\n 6   total sulfur dioxide  6497 non-null   float64\n\n 7   density               6497 non-null   float64\n\n 8   pH                    6497 non-null   float64\n\n 9   sulphates             6497 non-null   float64\n\n 10  alcohol               6497 non-null   float64\n\n 11  quality               6497 non-null   int64  \n\n 12  Class                 6497 non-null   int64  \n\ndtypes: float64(11), int64(2)\n\nmemory usage: 660.0 KB\n"
        }
      ]
    },
    {
      "cell_type": "code",
      "source": "",
      "metadata": {},
      "execution_count": null,
      "outputs": []
    },
    {
      "cell_type": "markdown",
      "source": "**I split data into 3 parts: train (70%), tune (15%), and test (15%). The tune set is used to perform model selection and feature selection .**",
      "metadata": {}
    },
    {
      "cell_type": "code",
      "source": "# data split to have 70% of train, 30% of tune + test\ndf_train, df_tune_test = train_test_split(df_wine,\n                                          test_size=0.3,\n                                          random_state=SEED,\n                                          shuffle=True,\n                                          stratify=None)",
      "metadata": {},
      "execution_count": 7,
      "outputs": []
    },
    {
      "cell_type": "code",
      "source": "# further evenly split between tune and test\ndf_tune, df_test = train_test_split(df_tune_test,\n                                    test_size=0.5,\n                                    random_state=SEED,\n                                    shuffle=True,\n                                    stratify=None)",
      "metadata": {},
      "execution_count": 8,
      "outputs": []
    },
    {
      "cell_type": "code",
      "source": "# double check data dimensions after the split\nprint(df_wine.shape)\nprint(df_train.shape)\nprint(df_tune.shape)\nprint(df_test.shape)",
      "metadata": {},
      "execution_count": 9,
      "outputs": [
        {
          "name": "stdout",
          "output_type": "stream",
          "text": "(6497, 13)\n\n(4547, 13)\n\n(975, 13)\n\n(975, 13)\n"
        }
      ]
    },
    {
      "cell_type": "code",
      "source": "",
      "metadata": {},
      "execution_count": null,
      "outputs": []
    },
    {
      "cell_type": "markdown",
      "source": "**Target in numpy arrays to be used in training**",
      "metadata": {}
    },
    {
      "cell_type": "code",
      "source": "y_train = df_train[\"Class\"].to_numpy()\ny_tune = df_tune[\"Class\"].to_numpy()\ny_test = df_test[\"Class\"].to_numpy()",
      "metadata": {},
      "execution_count": 10,
      "outputs": []
    },
    {
      "cell_type": "code",
      "source": "# drop target to predict\ndf_train = df_train.drop([\"Class\"], axis=1)\ndf_tune = df_tune.drop([\"Class\"], axis=1)\ndf_test = df_test.drop([\"Class\"], axis=1)",
      "metadata": {},
      "execution_count": 11,
      "outputs": []
    },
    {
      "cell_type": "code",
      "source": "",
      "metadata": {},
      "execution_count": null,
      "outputs": []
    },
    {
      "cell_type": "code",
      "source": "# scale numeric features\nsc = StandardScaler()\nsc.fit(df_train)",
      "metadata": {},
      "execution_count": 12,
      "outputs": [
        {
          "execution_count": 12,
          "output_type": "execute_result",
          "data": {
            "text/plain": [
              "StandardScaler()"
            ]
          },
          "metadata": {}
        }
      ]
    },
    {
      "cell_type": "code",
      "source": "# transform train, tune and test\ndf_train_processed = pd.DataFrame(sc.transform(df_train), columns=df_train.columns)\ndf_tune_processed = pd.DataFrame(sc.transform(df_tune), columns=df_tune.columns)\ndf_test_processed = pd.DataFrame(sc.transform(df_test), columns=df_test.columns)",
      "metadata": {},
      "execution_count": 13,
      "outputs": []
    },
    {
      "cell_type": "code",
      "source": "# double check dimensions\nprint(df_train.shape)\nprint(df_train_processed.shape)",
      "metadata": {},
      "execution_count": 14,
      "outputs": [
        {
          "name": "stdout",
          "output_type": "stream",
          "text": "(4547, 12)\n\n(4547, 12)\n"
        }
      ]
    },
    {
      "cell_type": "code",
      "source": "# let's take a look at data after all these transformations\ndf_train_processed.head(10)",
      "metadata": {},
      "execution_count": 15,
      "outputs": [
        {
          "execution_count": 15,
          "output_type": "execute_result",
          "data": {
            "text/html": [
              "<div>\n",
              "<style scoped>\n",
              "    .dataframe tbody tr th:only-of-type {\n",
              "        vertical-align: middle;\n",
              "    }\n",
              "\n",
              "    .dataframe tbody tr th {\n",
              "        vertical-align: top;\n",
              "    }\n",
              "\n",
              "    .dataframe thead th {\n",
              "        text-align: right;\n",
              "    }\n",
              "</style>\n",
              "<table border=\"1\" class=\"dataframe\">\n",
              "  <thead>\n",
              "    <tr style=\"text-align: right;\">\n",
              "      <th></th>\n",
              "      <th>fixed acidity</th>\n",
              "      <th>volatile acidity</th>\n",
              "      <th>citric acid</th>\n",
              "      <th>residual sugar</th>\n",
              "      <th>chlorides</th>\n",
              "      <th>free sulfur dioxide</th>\n",
              "      <th>total sulfur dioxide</th>\n",
              "      <th>density</th>\n",
              "      <th>pH</th>\n",
              "      <th>sulphates</th>\n",
              "      <th>alcohol</th>\n",
              "      <th>quality</th>\n",
              "    </tr>\n",
              "  </thead>\n",
              "  <tbody>\n",
              "    <tr>\n",
              "      <th>0</th>\n",
              "      <td>-0.859379</td>\n",
              "      <td>-0.409249</td>\n",
              "      <td>-0.073457</td>\n",
              "      <td>-0.831324</td>\n",
              "      <td>-0.597216</td>\n",
              "      <td>-0.762842</td>\n",
              "      <td>-0.586499</td>\n",
              "      <td>-1.298833</td>\n",
              "      <td>0.635370</td>\n",
              "      <td>-0.618135</td>\n",
              "      <td>0.499782</td>\n",
              "      <td>1.325093</td>\n",
              "    </tr>\n",
              "    <tr>\n",
              "      <th>1</th>\n",
              "      <td>-0.859379</td>\n",
              "      <td>-0.226037</td>\n",
              "      <td>1.642938</td>\n",
              "      <td>-0.580824</td>\n",
              "      <td>-0.280128</td>\n",
              "      <td>0.849821</td>\n",
              "      <td>1.206870</td>\n",
              "      <td>-0.758054</td>\n",
              "      <td>0.573491</td>\n",
              "      <td>0.249765</td>\n",
              "      <td>0.332671</td>\n",
              "      <td>0.192750</td>\n",
              "    </tr>\n",
              "    <tr>\n",
              "      <th>2</th>\n",
              "      <td>0.283895</td>\n",
              "      <td>-0.775674</td>\n",
              "      <td>0.819068</td>\n",
              "      <td>-0.747824</td>\n",
              "      <td>-0.568390</td>\n",
              "      <td>-1.152106</td>\n",
              "      <td>0.052722</td>\n",
              "      <td>-1.120772</td>\n",
              "      <td>-1.282893</td>\n",
              "      <td>1.117664</td>\n",
              "      <td>1.920230</td>\n",
              "      <td>0.192750</td>\n",
              "    </tr>\n",
              "    <tr>\n",
              "      <th>3</th>\n",
              "      <td>0.207677</td>\n",
              "      <td>2.247329</td>\n",
              "      <td>-1.515229</td>\n",
              "      <td>1.569306</td>\n",
              "      <td>-0.337781</td>\n",
              "      <td>0.738603</td>\n",
              "      <td>1.739554</td>\n",
              "      <td>0.893962</td>\n",
              "      <td>-0.725978</td>\n",
              "      <td>-0.217566</td>\n",
              "      <td>-1.171332</td>\n",
              "      <td>-0.939593</td>\n",
              "    </tr>\n",
              "    <tr>\n",
              "      <th>4</th>\n",
              "      <td>-0.325851</td>\n",
              "      <td>-0.958886</td>\n",
              "      <td>-0.142113</td>\n",
              "      <td>1.527556</td>\n",
              "      <td>0.181091</td>\n",
              "      <td>-0.651624</td>\n",
              "      <td>0.976040</td>\n",
              "      <td>1.114890</td>\n",
              "      <td>-1.344772</td>\n",
              "      <td>-0.084043</td>\n",
              "      <td>-1.254888</td>\n",
              "      <td>1.325093</td>\n",
              "    </tr>\n",
              "    <tr>\n",
              "      <th>5</th>\n",
              "      <td>1.274732</td>\n",
              "      <td>1.392338</td>\n",
              "      <td>0.132510</td>\n",
              "      <td>-0.518199</td>\n",
              "      <td>1.074703</td>\n",
              "      <td>-0.818452</td>\n",
              "      <td>-0.071571</td>\n",
              "      <td>1.682049</td>\n",
              "      <td>1.006647</td>\n",
              "      <td>0.516811</td>\n",
              "      <td>-0.837109</td>\n",
              "      <td>-0.939593</td>\n",
              "    </tr>\n",
              "    <tr>\n",
              "      <th>6</th>\n",
              "      <td>-0.097196</td>\n",
              "      <td>1.606086</td>\n",
              "      <td>-2.133131</td>\n",
              "      <td>-0.664324</td>\n",
              "      <td>0.671136</td>\n",
              "      <td>-0.373579</td>\n",
              "      <td>-1.403281</td>\n",
              "      <td>0.145444</td>\n",
              "      <td>1.130406</td>\n",
              "      <td>0.516811</td>\n",
              "      <td>0.332671</td>\n",
              "      <td>0.192750</td>\n",
              "    </tr>\n",
              "    <tr>\n",
              "      <th>7</th>\n",
              "      <td>-1.088033</td>\n",
              "      <td>-0.348179</td>\n",
              "      <td>-0.348080</td>\n",
              "      <td>-0.601699</td>\n",
              "      <td>-0.049519</td>\n",
              "      <td>-0.039924</td>\n",
              "      <td>0.709699</td>\n",
              "      <td>-1.087797</td>\n",
              "      <td>1.934839</td>\n",
              "      <td>-0.751658</td>\n",
              "      <td>1.586007</td>\n",
              "      <td>-0.939593</td>\n",
              "    </tr>\n",
              "    <tr>\n",
              "      <th>8</th>\n",
              "      <td>-0.249633</td>\n",
              "      <td>-0.897815</td>\n",
              "      <td>0.201166</td>\n",
              "      <td>1.673681</td>\n",
              "      <td>-0.510738</td>\n",
              "      <td>1.016648</td>\n",
              "      <td>0.034966</td>\n",
              "      <td>0.250962</td>\n",
              "      <td>-1.344772</td>\n",
              "      <td>0.650334</td>\n",
              "      <td>0.165559</td>\n",
              "      <td>0.192750</td>\n",
              "    </tr>\n",
              "    <tr>\n",
              "      <th>9</th>\n",
              "      <td>-1.469125</td>\n",
              "      <td>-0.775674</td>\n",
              "      <td>-0.210769</td>\n",
              "      <td>-0.998325</td>\n",
              "      <td>-0.799000</td>\n",
              "      <td>-1.096497</td>\n",
              "      <td>-0.888353</td>\n",
              "      <td>-0.840490</td>\n",
              "      <td>0.511611</td>\n",
              "      <td>-0.885181</td>\n",
              "      <td>-0.586442</td>\n",
              "      <td>-0.939593</td>\n",
              "    </tr>\n",
              "  </tbody>\n",
              "</table>\n",
              "</div>"
            ],
            "text/plain": [
              "   fixed acidity  volatile acidity  citric acid  residual sugar  chlorides  \\\n",
              "0      -0.859379         -0.409249    -0.073457       -0.831324  -0.597216   \n",
              "1      -0.859379         -0.226037     1.642938       -0.580824  -0.280128   \n",
              "2       0.283895         -0.775674     0.819068       -0.747824  -0.568390   \n",
              "3       0.207677          2.247329    -1.515229        1.569306  -0.337781   \n",
              "4      -0.325851         -0.958886    -0.142113        1.527556   0.181091   \n",
              "5       1.274732          1.392338     0.132510       -0.518199   1.074703   \n",
              "6      -0.097196          1.606086    -2.133131       -0.664324   0.671136   \n",
              "7      -1.088033         -0.348179    -0.348080       -0.601699  -0.049519   \n",
              "8      -0.249633         -0.897815     0.201166        1.673681  -0.510738   \n",
              "9      -1.469125         -0.775674    -0.210769       -0.998325  -0.799000   \n",
              "\n",
              "   free sulfur dioxide  total sulfur dioxide   density        pH  sulphates  \\\n",
              "0            -0.762842             -0.586499 -1.298833  0.635370  -0.618135   \n",
              "1             0.849821              1.206870 -0.758054  0.573491   0.249765   \n",
              "2            -1.152106              0.052722 -1.120772 -1.282893   1.117664   \n",
              "3             0.738603              1.739554  0.893962 -0.725978  -0.217566   \n",
              "4            -0.651624              0.976040  1.114890 -1.344772  -0.084043   \n",
              "5            -0.818452             -0.071571  1.682049  1.006647   0.516811   \n",
              "6            -0.373579             -1.403281  0.145444  1.130406   0.516811   \n",
              "7            -0.039924              0.709699 -1.087797  1.934839  -0.751658   \n",
              "8             1.016648              0.034966  0.250962 -1.344772   0.650334   \n",
              "9            -1.096497             -0.888353 -0.840490  0.511611  -0.885181   \n",
              "\n",
              "    alcohol   quality  \n",
              "0  0.499782  1.325093  \n",
              "1  0.332671  0.192750  \n",
              "2  1.920230  0.192750  \n",
              "3 -1.171332 -0.939593  \n",
              "4 -1.254888  1.325093  \n",
              "5 -0.837109 -0.939593  \n",
              "6  0.332671  0.192750  \n",
              "7  1.586007 -0.939593  \n",
              "8  0.165559  0.192750  \n",
              "9 -0.586442 -0.939593  "
            ]
          },
          "metadata": {}
        }
      ]
    },
    {
      "cell_type": "markdown",
      "source": "### Numpy arrays to be used in training",
      "metadata": {}
    },
    {
      "cell_type": "code",
      "source": "# feature matrix\nX_train = df_train_processed.to_numpy()\nX_tune = df_tune_processed.to_numpy()\nX_test = df_test_processed.to_numpy()",
      "metadata": {
        "scrolled": true
      },
      "execution_count": 16,
      "outputs": []
    },
    {
      "cell_type": "code",
      "source": "# feature names\nfeature_names = df_train_processed.columns",
      "metadata": {},
      "execution_count": 17,
      "outputs": []
    },
    {
      "cell_type": "code",
      "source": "# double check dimensions\nprint(X_train.shape)\nprint(X_tune.shape)\nprint(X_test.shape)\nprint(feature_names)",
      "metadata": {
        "scrolled": true
      },
      "execution_count": 18,
      "outputs": [
        {
          "name": "stdout",
          "output_type": "stream",
          "text": "(4547, 12)\n\n(975, 12)\n\n(975, 12)\n\nIndex(['fixed acidity', 'volatile acidity', 'citric acid', 'residual sugar',\n\n       'chlorides', 'free sulfur dioxide', 'total sulfur dioxide', 'density',\n\n       'pH', 'sulphates', 'alcohol', 'quality'],\n\n      dtype='object')\n"
        }
      ]
    },
    {
      "cell_type": "markdown",
      "source": "Train Logistic regression",
      "metadata": {}
    },
    {
      "cell_type": "code",
      "source": "from sklearn.linear_model import LogisticRegression\n\n# logistic regression model object\nestimator = LogisticRegression(solver=\"saga\", random_state=SEED)\nestimator",
      "metadata": {},
      "execution_count": 19,
      "outputs": [
        {
          "execution_count": 19,
          "output_type": "execute_result",
          "data": {
            "text/plain": [
              "LogisticRegression(random_state=2005, solver='saga')"
            ]
          },
          "metadata": {}
        }
      ]
    },
    {
      "cell_type": "code",
      "source": "estimator.fit(X_train, y_train)",
      "metadata": {},
      "execution_count": 20,
      "outputs": [
        {
          "execution_count": 20,
          "output_type": "execute_result",
          "data": {
            "text/plain": [
              "LogisticRegression(random_state=2005, solver='saga')"
            ]
          },
          "metadata": {}
        }
      ]
    },
    {
      "cell_type": "code",
      "source": "y_tune_pred = estimator.predict(X_tune)",
      "metadata": {},
      "execution_count": 21,
      "outputs": []
    },
    {
      "cell_type": "code",
      "source": "print(y_tune_pred)",
      "metadata": {},
      "execution_count": 22,
      "outputs": [
        {
          "name": "stdout",
          "output_type": "stream",
          "text": "[1 0 0 0 0 0 0 0 0 1 0 0 0 0 0 0 1 0 0 0 1 0 0 0 0 0 0 1 0 0 0 0 0 0 1 0 1\n\n 0 0 1 0 0 0 1 0 0 0 0 0 1 1 0 0 0 0 0 1 0 0 1 0 0 0 0 0 0 1 0 0 0 0 0 0 0\n\n 0 1 1 0 1 1 0 0 0 1 0 0 0 0 0 1 0 1 0 0 0 1 0 0 0 0 1 0 0 0 0 0 0 0 0 1 0\n\n 1 0 0 0 1 0 0 0 0 0 0 0 0 1 0 0 0 0 0 0 1 1 0 0 0 0 0 1 0 0 0 0 0 0 0 0 0\n\n 1 0 0 0 0 0 0 0 0 0 0 0 1 0 0 0 0 1 0 0 0 0 0 0 1 0 1 1 0 0 0 1 0 0 0 0 0\n\n 0 1 0 0 0 0 0 1 0 0 1 0 0 0 0 0 0 0 0 1 1 0 0 0 0 0 1 0 1 1 0 0 0 0 0 0 0\n\n 0 1 0 0 0 0 0 0 0 0 0 0 0 0 0 0 0 0 0 0 1 0 0 0 0 0 1 1 0 0 0 0 1 0 0 0 0\n\n 0 0 0 0 1 0 0 1 1 0 0 1 0 0 0 1 0 1 0 1 0 0 0 0 1 0 1 1 0 0 0 0 0 0 1 1 0\n\n 0 1 0 0 0 0 1 0 0 0 0 0 1 0 0 1 0 1 0 1 0 0 0 0 1 1 0 1 0 0 1 0 0 0 0 1 1\n\n 1 0 0 1 0 1 0 0 0 0 0 0 0 0 0 0 1 0 0 0 0 0 0 0 0 1 0 0 0 0 1 0 0 0 0 0 0\n\n 1 1 0 0 0 0 0 0 0 0 0 1 1 0 0 0 0 0 0 0 0 0 0 0 0 0 0 0 0 1 1 0 0 0 0 0 1\n\n 1 0 0 0 0 1 0 0 1 0 1 0 1 0 0 1 0 0 1 1 0 0 0 0 0 0 0 0 0 0 0 0 0 0 1 0 1\n\n 0 0 0 1 0 0 1 0 0 1 0 1 0 1 1 0 0 0 0 0 0 0 1 0 0 0 1 0 0 0 0 0 0 0 1 1 0\n\n 0 1 0 0 0 0 0 0 0 1 0 0 0 0 0 1 1 0 0 0 0 0 1 1 0 0 1 0 0 0 1 1 0 0 0 0 1\n\n 0 1 0 1 0 0 0 0 0 0 1 0 0 0 0 0 0 0 1 0 0 0 0 1 0 0 1 0 1 0 0 1 0 0 0 0 0\n\n 0 0 0 0 0 1 0 0 0 0 0 0 0 0 0 0 1 1 1 0 1 0 0 0 1 0 0 1 0 0 1 0 1 0 0 0 0\n\n 0 1 0 0 0 1 0 1 1 0 0 0 0 0 0 0 0 1 1 0 1 1 0 1 0 0 0 0 1 0 0 1 0 0 0 0 0\n\n 1 0 0 0 0 0 1 0 1 0 0 1 1 1 0 0 0 0 0 1 0 1 0 0 0 1 0 0 0 0 0 0 0 0 0 0 0\n\n 0 1 0 0 1 0 0 0 1 1 1 1 0 0 1 1 1 0 0 1 0 0 0 1 0 0 1 0 0 0 0 0 1 0 0 0 0\n\n 0 0 1 0 0 1 1 0 0 0 0 1 0 0 0 0 1 0 0 0 0 0 1 0 0 1 0 0 0 0 0 0 1 0 0 0 0\n\n 0 0 0 0 0 0 1 1 0 0 0 0 0 0 0 1 0 0 0 0 0 0 0 0 1 1 0 1 0 0 1 0 0 1 0 0 1\n\n 0 1 0 1 1 1 0 0 0 0 0 0 1 0 0 0 0 0 0 0 0 0 1 0 0 0 0 0 0 0 0 1 0 0 0 0 0\n\n 1 0 1 1 0 0 0 0 0 0 0 1 0 0 0 0 0 0 0 1 1 0 0 1 0 0 0 1 1 0 0 0 0 0 0 0 0\n\n 1 0 0 0 0 0 0 0 0 0 0 0 0 1 0 0 1 1 0 0 1 0 0 0 1 0 0 0 1 0 0 0 0 0 0 0 0\n\n 1 0 0 1 0 0 0 0 0 1 0 0 0 1 0 0 0 0 0 0 0 0 1 0 0 1 1 1 1 1 1 0 1 1 1 0 0\n\n 0 0 1 0 0 0 0 0 0 0 0 0 0 1 0 1 0 0 1 0 0 0 0 0 0 0 1 1 0 0 0 1 1 0 0 0 0\n\n 0 0 0 0 0 0 0 1 0 0 1 0 1]\n"
        }
      ]
    },
    {
      "cell_type": "markdown",
      "source": "Getting the metrics for the tune data set",
      "metadata": {}
    },
    {
      "cell_type": "code",
      "source": "# print out confusion matrix\ncm = confusion_matrix(y_true=y_tune, y_pred=y_tune_pred)\nprint(cm)",
      "metadata": {},
      "execution_count": 24,
      "outputs": [
        {
          "name": "stdout",
          "output_type": "stream",
          "text": "[[738   0]\n\n [  5 232]]\n"
        }
      ]
    },
    {
      "cell_type": "code",
      "source": "# calculate accuracy \naccuracy_score(y_true=y_tune, y_pred=y_tune_pred)",
      "metadata": {},
      "execution_count": 25,
      "outputs": [
        {
          "execution_count": 25,
          "output_type": "execute_result",
          "data": {
            "text/plain": [
              "0.9948717948717949"
            ]
          },
          "metadata": {}
        }
      ]
    },
    {
      "cell_type": "code",
      "source": "# precision\nprecision_score(y_true=y_tune, y_pred=y_tune_pred)",
      "metadata": {},
      "execution_count": 26,
      "outputs": [
        {
          "execution_count": 26,
          "output_type": "execute_result",
          "data": {
            "text/plain": [
              "1.0"
            ]
          },
          "metadata": {}
        }
      ]
    },
    {
      "cell_type": "code",
      "source": "# recall\nrecall_score(y_true=y_tune, y_pred=y_tune_pred)",
      "metadata": {},
      "execution_count": 27,
      "outputs": [
        {
          "execution_count": 27,
          "output_type": "execute_result",
          "data": {
            "text/plain": [
              "0.9789029535864979"
            ]
          },
          "metadata": {}
        }
      ]
    },
    {
      "cell_type": "code",
      "source": "# F-1 score\nf1_score(y_true=y_tune, y_pred=y_tune_pred)",
      "metadata": {},
      "execution_count": 28,
      "outputs": [
        {
          "execution_count": 28,
          "output_type": "execute_result",
          "data": {
            "text/plain": [
              "0.9893390191897655"
            ]
          },
          "metadata": {}
        }
      ]
    },
    {
      "cell_type": "code",
      "source": "",
      "metadata": {},
      "execution_count": null,
      "outputs": []
    },
    {
      "cell_type": "code",
      "source": "#### Build neural network model (sequential)",
      "metadata": {},
      "execution_count": 29,
      "outputs": []
    },
    {
      "cell_type": "code",
      "source": "import tensorflow as tf\nfrom tensorflow import keras",
      "metadata": {},
      "execution_count": 30,
      "outputs": []
    },
    {
      "cell_type": "markdown",
      "source": "Check the version of Tensorflow.",
      "metadata": {}
    },
    {
      "cell_type": "code",
      "source": "print(tf.__version__)",
      "metadata": {},
      "execution_count": 31,
      "outputs": [
        {
          "name": "stdout",
          "output_type": "stream",
          "text": "2.4.1\n"
        }
      ]
    },
    {
      "cell_type": "markdown",
      "source": "Checked the version of the Keras API implemented by tf.keras. Note that it ends with -tf, highlighting the fact that tf.keras implements the Keras API, plus some extra TensorFlow-specific features.",
      "metadata": {}
    },
    {
      "cell_type": "code",
      "source": "print(keras.__version__)",
      "metadata": {},
      "execution_count": 32,
      "outputs": [
        {
          "name": "stdout",
          "output_type": "stream",
          "text": "2.4.0\n"
        }
      ]
    },
    {
      "cell_type": "markdown",
      "source": "Train a multi-layer feed-forward neural network to predict the type of wine, one hidden layer.",
      "metadata": {}
    },
    {
      "cell_type": "code",
      "source": "model = keras.Sequential([\n    keras.layers.Dense(64, input_dim=X_train.shape[1], activation=\"relu\"), # first hidden layer \n    keras.layers.Dense(1, activation=\"sigmoid\") # output layer \n])",
      "metadata": {},
      "execution_count": 33,
      "outputs": []
    },
    {
      "cell_type": "code",
      "source": "model.summary()",
      "metadata": {},
      "execution_count": 34,
      "outputs": [
        {
          "name": "stdout",
          "output_type": "stream",
          "text": "Model: \"sequential\"\n\n_________________________________________________________________\n\nLayer (type)                 Output Shape              Param #   \n\n=================================================================\n\ndense (Dense)                (None, 64)                832       \n\n_________________________________________________________________\n\ndense_1 (Dense)              (None, 1)                 65        \n\n=================================================================\n\nTotal params: 897\n\nTrainable params: 897\n\nNon-trainable params: 0\n\n_________________________________________________________________\n"
        }
      ]
    },
    {
      "cell_type": "code",
      "source": "",
      "metadata": {},
      "execution_count": null,
      "outputs": []
    },
    {
      "cell_type": "markdown",
      "source": "Before I trained my model, I compiled it by defining the optimizer, loss function, and the metric used to monitor the training steps.",
      "metadata": {}
    },
    {
      "cell_type": "code",
      "source": "model.compile(optimizer=keras.optimizers.SGD(learning_rate=0.001, momentum=0.0), \n              loss=\"binary_crossentropy\",\n              metrics=[\"accuracy\"])",
      "metadata": {},
      "execution_count": 35,
      "outputs": []
    },
    {
      "cell_type": "markdown",
      "source": "### Train model 1",
      "metadata": {}
    },
    {
      "cell_type": "markdown",
      "source": "After compiling the model, I trained the model the same way I would do it in `sklearn`, I called `fit` and passed the training data as well as the labels. In `keras` I  also need to specify the number of epochs to train.",
      "metadata": {}
    },
    {
      "cell_type": "code",
      "source": "history = model.fit(X_train, \n                    y_train, \n                    batch_size=16,\n                    epochs=30,\n                    verbose=1,\n                    validation_data=(X_tune, y_tune)\n)",
      "metadata": {},
      "execution_count": 36,
      "outputs": [
        {
          "name": "stdout",
          "output_type": "stream",
          "text": "Epoch 1/30\n\n285/285 [==============================] - 1s 3ms/step - loss: 0.6313 - accuracy: 0.6723 - val_loss: 0.5249 - val_accuracy: 0.8585\n\nEpoch 2/30\n\n285/285 [==============================] - 0s 1ms/step - loss: 0.5012 - accuracy: 0.8798 - val_loss: 0.4314 - val_accuracy: 0.9333\n\nEpoch 3/30\n\n285/285 [==============================] - 0s 1ms/step - loss: 0.4138 - accuracy: 0.9448 - val_loss: 0.3656 - val_accuracy: 0.9651\n\nEpoch 4/30\n\n285/285 [==============================] - 0s 1ms/step - loss: 0.3575 - accuracy: 0.9703 - val_loss: 0.3166 - val_accuracy: 0.9754\n\nEpoch 5/30\n\n285/285 [==============================] - 0s 2ms/step - loss: 0.3087 - accuracy: 0.9773 - val_loss: 0.2787 - val_accuracy: 0.9815\n\nEpoch 6/30\n\n285/285 [==============================] - 0s 1ms/step - loss: 0.2786 - accuracy: 0.9755 - val_loss: 0.2487 - val_accuracy: 0.9846\n\nEpoch 7/30\n\n285/285 [==============================] - 0s 1ms/step - loss: 0.2409 - accuracy: 0.9859 - val_loss: 0.2242 - val_accuracy: 0.9846\n\nEpoch 8/30\n\n285/285 [==============================] - 0s 1ms/step - loss: 0.2240 - accuracy: 0.9852 - val_loss: 0.2040 - val_accuracy: 0.9856\n\nEpoch 9/30\n\n285/285 [==============================] - 0s 1ms/step - loss: 0.2027 - accuracy: 0.9890 - val_loss: 0.1870 - val_accuracy: 0.9877\n\nEpoch 10/30\n\n285/285 [==============================] - 0s 1ms/step - loss: 0.1811 - accuracy: 0.9899 - val_loss: 0.1727 - val_accuracy: 0.9877\n\nEpoch 11/30\n\n285/285 [==============================] - 0s 1ms/step - loss: 0.1726 - accuracy: 0.9904 - val_loss: 0.1603 - val_accuracy: 0.9877\n\nEpoch 12/30\n\n285/285 [==============================] - 0s 1ms/step - loss: 0.1587 - accuracy: 0.9905 - val_loss: 0.1497 - val_accuracy: 0.9877\n\nEpoch 13/30\n\n285/285 [==============================] - 0s 1ms/step - loss: 0.1467 - accuracy: 0.9894 - val_loss: 0.1403 - val_accuracy: 0.9877\n\nEpoch 14/30\n\n285/285 [==============================] - 0s 1ms/step - loss: 0.1440 - accuracy: 0.9888 - val_loss: 0.1322 - val_accuracy: 0.9877\n\nEpoch 15/30\n\n285/285 [==============================] - 0s 1ms/step - loss: 0.1311 - accuracy: 0.9898 - val_loss: 0.1249 - val_accuracy: 0.9867\n\nEpoch 16/30\n\n285/285 [==============================] - 0s 1ms/step - loss: 0.1273 - accuracy: 0.9933 - val_loss: 0.1185 - val_accuracy: 0.9877\n\nEpoch 17/30\n\n285/285 [==============================] - 0s 1ms/step - loss: 0.1230 - accuracy: 0.9890 - val_loss: 0.1128 - val_accuracy: 0.9877\n\nEpoch 18/30\n\n285/285 [==============================] - 0s 1ms/step - loss: 0.1135 - accuracy: 0.9915 - val_loss: 0.1076 - val_accuracy: 0.9877\n\nEpoch 19/30\n\n285/285 [==============================] - 0s 1ms/step - loss: 0.1134 - accuracy: 0.9865 - val_loss: 0.1029 - val_accuracy: 0.9877\n\nEpoch 20/30\n\n285/285 [==============================] - 0s 1ms/step - loss: 0.1030 - accuracy: 0.9915 - val_loss: 0.0987 - val_accuracy: 0.9877\n\nEpoch 21/30\n\n285/285 [==============================] - 0s 1ms/step - loss: 0.1034 - accuracy: 0.9883 - val_loss: 0.0949 - val_accuracy: 0.9877\n\nEpoch 22/30\n\n285/285 [==============================] - 0s 1ms/step - loss: 0.0947 - accuracy: 0.9906 - val_loss: 0.0913 - val_accuracy: 0.9877\n\nEpoch 23/30\n\n285/285 [==============================] - 0s 1ms/step - loss: 0.0956 - accuracy: 0.9897 - val_loss: 0.0881 - val_accuracy: 0.9887\n\nEpoch 24/30\n\n285/285 [==============================] - 0s 1ms/step - loss: 0.0931 - accuracy: 0.9897 - val_loss: 0.0851 - val_accuracy: 0.9897\n\nEpoch 25/30\n\n285/285 [==============================] - 0s 1ms/step - loss: 0.0948 - accuracy: 0.9909 - val_loss: 0.0824 - val_accuracy: 0.9897\n\nEpoch 26/30\n\n285/285 [==============================] - 0s 1ms/step - loss: 0.0815 - accuracy: 0.9901 - val_loss: 0.0799 - val_accuracy: 0.9897\n\nEpoch 27/30\n\n285/285 [==============================] - 0s 1ms/step - loss: 0.0754 - accuracy: 0.9946 - val_loss: 0.0775 - val_accuracy: 0.9897\n\nEpoch 28/30\n\n285/285 [==============================] - 0s 1ms/step - loss: 0.0799 - accuracy: 0.9909 - val_loss: 0.0753 - val_accuracy: 0.9887\n\nEpoch 29/30\n\n285/285 [==============================] - 0s 2ms/step - loss: 0.0844 - accuracy: 0.9891 - val_loss: 0.0733 - val_accuracy: 0.9887\n\nEpoch 30/30\n\n285/285 [==============================] - 0s 2ms/step - loss: 0.0820 - accuracy: 0.9898 - val_loss: 0.0714 - val_accuracy: 0.9908\n"
        }
      ]
    },
    {
      "cell_type": "code",
      "source": "",
      "metadata": {},
      "execution_count": null,
      "outputs": []
    },
    {
      "cell_type": "code",
      "source": "pd.DataFrame(history.history).plot(figsize=(8, 5))\nplt.grid(True)\nplt.gca().set_ylim(0, 1) # set the vertical range to [0-1]\nplt.show()",
      "metadata": {},
      "execution_count": 37,
      "outputs": [
        {
          "output_type": "display_data",
          "data": {
            "image/png": "[encoded data removed]",
            "text/plain": [
              "<Figure size 576x360 with 1 Axes>"
            ]
          },
          "metadata": {
            "needs_background": "light"
          }
        }
      ]
    },
    {
      "cell_type": "code",
      "source": "",
      "metadata": {},
      "execution_count": null,
      "outputs": []
    },
    {
      "cell_type": "markdown",
      "source": "### Prediction with trained model ",
      "metadata": {}
    },
    {
      "cell_type": "code",
      "source": "# output\nloss_tune, acc_tune = model.evaluate(X_tune, y_tune)\n\nprint(\"Tune set accuracy:\", acc_tune)",
      "metadata": {},
      "execution_count": 38,
      "outputs": [
        {
          "name": "stdout",
          "output_type": "stream",
          "text": "31/31 [==============================] - 0s 918us/step - loss: 0.0714 - accuracy: 0.9908\n\nTune set accuracy: 0.9907692074775696\n"
        }
      ]
    },
    {
      "cell_type": "code",
      "source": "# predict\ny_tune_prob = model.predict(X_tune)\ny_tune_pred = (model.predict(X_tune) >= 0.5).astype(\"int32\")",
      "metadata": {},
      "execution_count": 39,
      "outputs": []
    },
    {
      "cell_type": "code",
      "source": "print(y_tune_prob[:10])\nprint(y_tune_pred[:10])",
      "metadata": {},
      "execution_count": 40,
      "outputs": [
        {
          "name": "stdout",
          "output_type": "stream",
          "text": "[[0.8408843 ]\n\n [0.12138605]\n\n [0.01820573]\n\n [0.01377887]\n\n [0.01198083]\n\n [0.5052698 ]\n\n [0.00240216]\n\n [0.00851282]\n\n [0.00373116]\n\n [0.9746169 ]]\n\n[[1]\n\n [0]\n\n [0]\n\n [0]\n\n [0]\n\n [1]\n\n [0]\n\n [0]\n\n [0]\n\n [1]]\n"
        }
      ]
    },
    {
      "cell_type": "code",
      "source": "# print out confusion matrix\ncm = confusion_matrix(y_true=y_tune, y_pred=y_tune_pred)\nprint(cm)",
      "metadata": {},
      "execution_count": 41,
      "outputs": [
        {
          "name": "stdout",
          "output_type": "stream",
          "text": "[[733   5]\n\n [  4 233]]\n"
        }
      ]
    },
    {
      "cell_type": "code",
      "source": "# calculate accuracy \naccuracy_score(y_true=y_tune, y_pred=y_tune_pred)",
      "metadata": {},
      "execution_count": 42,
      "outputs": [
        {
          "execution_count": 42,
          "output_type": "execute_result",
          "data": {
            "text/plain": [
              "0.9907692307692307"
            ]
          },
          "metadata": {}
        }
      ]
    },
    {
      "cell_type": "markdown",
      "source": "And now I tuned the neural network with different learning rate and number of neurons in the hidden layer.",
      "metadata": {}
    },
    {
      "cell_type": "markdown",
      "source": "Try another model with different number of neurons",
      "metadata": {}
    },
    {
      "cell_type": "code",
      "source": "",
      "metadata": {},
      "execution_count": null,
      "outputs": []
    },
    {
      "cell_type": "code",
      "source": "model_n2 = keras.Sequential([\n    keras.layers.Dense(32, input_dim=X_train.shape[1], activation=\"relu\"), # first hidden layer \n    keras.layers.Dense(1, activation=\"sigmoid\") # output layer \n])",
      "metadata": {},
      "execution_count": 44,
      "outputs": []
    },
    {
      "cell_type": "code",
      "source": "model_n2.summary()",
      "metadata": {},
      "execution_count": 45,
      "outputs": [
        {
          "name": "stdout",
          "output_type": "stream",
          "text": "Model: \"sequential_1\"\n\n_________________________________________________________________\n\nLayer (type)                 Output Shape              Param #   \n\n=================================================================\n\ndense_2 (Dense)              (None, 32)                416       \n\n_________________________________________________________________\n\ndense_3 (Dense)              (None, 1)                 33        \n\n=================================================================\n\nTotal params: 449\n\nTrainable params: 449\n\nNon-trainable params: 0\n\n_________________________________________________________________\n"
        }
      ]
    },
    {
      "cell_type": "code",
      "source": "",
      "metadata": {},
      "execution_count": null,
      "outputs": []
    },
    {
      "cell_type": "markdown",
      "source": "Before I trained model, I had to compile it by defining the optimizer, loss function, and the metric used to monitor the training steps.",
      "metadata": {}
    },
    {
      "cell_type": "code",
      "source": "model_n2.compile(optimizer=keras.optimizers.SGD(learning_rate=0.002, momentum=0.0), \n              loss=\"binary_crossentropy\",\n              metrics=[\"accuracy\"])",
      "metadata": {},
      "execution_count": 46,
      "outputs": []
    },
    {
      "cell_type": "markdown",
      "source": "### Train model 2",
      "metadata": {}
    },
    {
      "cell_type": "markdown",
      "source": "After compiling the model, I trained the model the same way I would do in `sklearn`, I call `fit` and pass the training data as well as the labels. In `keras` I also need to specify the number of epochs I wish to train.",
      "metadata": {}
    },
    {
      "cell_type": "code",
      "source": "history = model_n2.fit(X_train, \n                    y_train, \n                    batch_size=16,\n                    epochs=30,\n                    verbose=1,\n                    validation_data=(X_tune, y_tune)\n)",
      "metadata": {},
      "execution_count": 47,
      "outputs": [
        {
          "name": "stdout",
          "output_type": "stream",
          "text": "Epoch 1/30\n\n285/285 [==============================] - 1s 2ms/step - loss: 0.8655 - accuracy: 0.5269 - val_loss: 0.6389 - val_accuracy: 0.7200\n\nEpoch 2/30\n\n285/285 [==============================] - 1s 2ms/step - loss: 0.5854 - accuracy: 0.7532 - val_loss: 0.4752 - val_accuracy: 0.8195\n\nEpoch 3/30\n\n285/285 [==============================] - 1s 2ms/step - loss: 0.4391 - accuracy: 0.8479 - val_loss: 0.3764 - val_accuracy: 0.8821\n\nEpoch 4/30\n\n285/285 [==============================] - 1s 2ms/step - loss: 0.3582 - accuracy: 0.8951 - val_loss: 0.3095 - val_accuracy: 0.9169\n\nEpoch 5/30\n\n285/285 [==============================] - 1s 2ms/step - loss: 0.2954 - accuracy: 0.9301 - val_loss: 0.2611 - val_accuracy: 0.9477\n\nEpoch 6/30\n\n285/285 [==============================] - 0s 2ms/step - loss: 0.2500 - accuracy: 0.9557 - val_loss: 0.2247 - val_accuracy: 0.9672\n\nEpoch 7/30\n\n285/285 [==============================] - 0s 1ms/step - loss: 0.2182 - accuracy: 0.9621 - val_loss: 0.1963 - val_accuracy: 0.9754\n\nEpoch 8/30\n\n285/285 [==============================] - 0s 1ms/step - loss: 0.1889 - accuracy: 0.9705 - val_loss: 0.1739 - val_accuracy: 0.9795\n\nEpoch 9/30\n\n285/285 [==============================] - 0s 1ms/step - loss: 0.1730 - accuracy: 0.9742 - val_loss: 0.1558 - val_accuracy: 0.9795\n\nEpoch 10/30\n\n285/285 [==============================] - 0s 1ms/step - loss: 0.1575 - accuracy: 0.9786 - val_loss: 0.1410 - val_accuracy: 0.9805\n\nEpoch 11/30\n\n285/285 [==============================] - 0s 1ms/step - loss: 0.1408 - accuracy: 0.9814 - val_loss: 0.1288 - val_accuracy: 0.9826\n\nEpoch 12/30\n\n285/285 [==============================] - 0s 1ms/step - loss: 0.1258 - accuracy: 0.9881 - val_loss: 0.1184 - val_accuracy: 0.9836\n\nEpoch 13/30\n\n285/285 [==============================] - 0s 1ms/step - loss: 0.1214 - accuracy: 0.9815 - val_loss: 0.1097 - val_accuracy: 0.9846\n\nEpoch 14/30\n\n285/285 [==============================] - 0s 1ms/step - loss: 0.1053 - accuracy: 0.9872 - val_loss: 0.1023 - val_accuracy: 0.9856\n\nEpoch 15/30\n\n285/285 [==============================] - 0s 2ms/step - loss: 0.1021 - accuracy: 0.9871 - val_loss: 0.0958 - val_accuracy: 0.9867\n\nEpoch 16/30\n\n285/285 [==============================] - 0s 1ms/step - loss: 0.0984 - accuracy: 0.9852 - val_loss: 0.0902 - val_accuracy: 0.9867\n\nEpoch 17/30\n\n285/285 [==============================] - 0s 1ms/step - loss: 0.0949 - accuracy: 0.9826 - val_loss: 0.0853 - val_accuracy: 0.9867\n\nEpoch 18/30\n\n285/285 [==============================] - 0s 1ms/step - loss: 0.0831 - accuracy: 0.9872 - val_loss: 0.0809 - val_accuracy: 0.9867\n\nEpoch 19/30\n\n285/285 [==============================] - 0s 1ms/step - loss: 0.0901 - accuracy: 0.9846 - val_loss: 0.0771 - val_accuracy: 0.9867\n\nEpoch 20/30\n\n285/285 [==============================] - 0s 1ms/step - loss: 0.0779 - accuracy: 0.9885 - val_loss: 0.0737 - val_accuracy: 0.9867\n\nEpoch 21/30\n\n285/285 [==============================] - 0s 1ms/step - loss: 0.0768 - accuracy: 0.9880 - val_loss: 0.0706 - val_accuracy: 0.9867\n\nEpoch 22/30\n\n285/285 [==============================] - 0s 2ms/step - loss: 0.0706 - accuracy: 0.9886 - val_loss: 0.0678 - val_accuracy: 0.9877\n\nEpoch 23/30\n\n285/285 [==============================] - 0s 1ms/step - loss: 0.0688 - accuracy: 0.9906 - val_loss: 0.0653 - val_accuracy: 0.9877\n\nEpoch 24/30\n\n285/285 [==============================] - 0s 1ms/step - loss: 0.0758 - accuracy: 0.9886 - val_loss: 0.0631 - val_accuracy: 0.9877\n\nEpoch 25/30\n\n285/285 [==============================] - 0s 1ms/step - loss: 0.0669 - accuracy: 0.9885 - val_loss: 0.0610 - val_accuracy: 0.9877\n\nEpoch 26/30\n\n285/285 [==============================] - 0s 1ms/step - loss: 0.0654 - accuracy: 0.9901 - val_loss: 0.0591 - val_accuracy: 0.9877\n\nEpoch 27/30\n\n285/285 [==============================] - 0s 1ms/step - loss: 0.0655 - accuracy: 0.9902 - val_loss: 0.0573 - val_accuracy: 0.9877\n\nEpoch 28/30\n\n285/285 [==============================] - 0s 1ms/step - loss: 0.0685 - accuracy: 0.9904 - val_loss: 0.0557 - val_accuracy: 0.9877\n\nEpoch 29/30\n\n285/285 [==============================] - 0s 1ms/step - loss: 0.0538 - accuracy: 0.9928 - val_loss: 0.0542 - val_accuracy: 0.9877\n\nEpoch 30/30\n\n285/285 [==============================] - 0s 1ms/step - loss: 0.0548 - accuracy: 0.9925 - val_loss: 0.0529 - val_accuracy: 0.9887\n"
        }
      ]
    },
    {
      "cell_type": "markdown",
      "source": "Keras uses the HDF5 format to save both the model’s architecture (including every layer’s hyperparameters) and the values of all the model parameters for every layer (e.g., connection weights and biases). It also saves the optimizer (including its hyperparameters and any state it may have). ",
      "metadata": {}
    },
    {
      "cell_type": "code",
      "source": "# save model2\nmodel_n2.save(\"wine_type_keras_model2.h5\")",
      "metadata": {},
      "execution_count": 48,
      "outputs": []
    },
    {
      "cell_type": "code",
      "source": "",
      "metadata": {},
      "execution_count": null,
      "outputs": []
    },
    {
      "cell_type": "code",
      "source": "# save model1\nmodel.save(\"wine_type_keras_model.h5\")",
      "metadata": {},
      "execution_count": 49,
      "outputs": []
    },
    {
      "cell_type": "markdown",
      "source": "### estimate performance of Model 2 in Tune set",
      "metadata": {}
    },
    {
      "cell_type": "code",
      "source": "# predict\ny_tune_prob = model_n2.predict(X_tune)\ny_tune_pred = (model_n2.predict(X_tune) >= 0.5).astype(\"int32\")",
      "metadata": {},
      "execution_count": 50,
      "outputs": []
    },
    {
      "cell_type": "code",
      "source": "# print out confusion matrix\ncm = confusion_matrix(y_true=y_tune, y_pred=y_tune_pred)\nprint(cm)",
      "metadata": {
        "scrolled": true
      },
      "execution_count": 51,
      "outputs": [
        {
          "name": "stdout",
          "output_type": "stream",
          "text": "[[734   4]\n\n [  7 230]]\n"
        }
      ]
    },
    {
      "cell_type": "code",
      "source": "# calculate accuracy\nprint(accuracy_score(y_true=y_tune, y_pred=y_tune_pred))",
      "metadata": {
        "scrolled": true
      },
      "execution_count": 52,
      "outputs": [
        {
          "name": "stdout",
          "output_type": "stream",
          "text": "0.9887179487179487\n"
        }
      ]
    },
    {
      "cell_type": "markdown",
      "source": "Model 1 result was better!",
      "metadata": {}
    },
    {
      "cell_type": "code",
      "source": "",
      "metadata": {},
      "execution_count": null,
      "outputs": []
    },
    {
      "cell_type": "markdown",
      "source": "### Model performance in test set",
      "metadata": {}
    },
    {
      "cell_type": "markdown",
      "source": "**I used my saved keras model to make predictions on test set.**",
      "metadata": {}
    },
    {
      "cell_type": "code",
      "source": "# load saved model\nmodel_saved = keras.models.load_model(\"wine_type_keras_model.h5\")",
      "metadata": {},
      "execution_count": 53,
      "outputs": []
    },
    {
      "cell_type": "code",
      "source": "# predict\ny_test_prob = model_saved.predict(X_test)\ny_test_pred = (model_saved.predict(X_test) >= 0.5).astype(\"int32\")",
      "metadata": {},
      "execution_count": 54,
      "outputs": []
    },
    {
      "cell_type": "code",
      "source": "# print out confusion matrix\ncm = confusion_matrix(y_true=y_test, y_pred=y_test_pred)\nprint(cm)",
      "metadata": {
        "scrolled": true
      },
      "execution_count": 55,
      "outputs": [
        {
          "name": "stdout",
          "output_type": "stream",
          "text": "[[710   4]\n\n [  5 256]]\n"
        }
      ]
    },
    {
      "cell_type": "code",
      "source": "# calculate accuracy\nprint(accuracy_score(y_true=y_test, y_pred=y_test_pred))",
      "metadata": {
        "scrolled": true
      },
      "execution_count": 56,
      "outputs": [
        {
          "name": "stdout",
          "output_type": "stream",
          "text": "0.9907692307692307\n"
        }
      ]
    },
    {
      "cell_type": "code",
      "source": "# ROC curve\nfpr, tpr, thresholds = roc_curve(y_true=y_test, y_score=y_test_prob)\nroc_auc = roc_auc_score(y_true=y_test, y_score=y_test_prob)\n\nplt.plot(fpr, tpr, color=\"blue\", label=\"AUC = %0.3f\" % roc_auc)\nplt.plot([0, 1], [0, 1], color=\"red\", linestyle=\"--\", lw=1)\nplt.title(\"Receiver Operating Characteristic\")\nplt.xlabel(\"False Positive Rate\")\nplt.ylabel(\"True Positive Rate\")\nplt.legend(loc=\"lower right\")\nplt.xlim([-0.02, 1.02])\nplt.ylim([-0.02, 1.02])\nplt.show()",
      "metadata": {},
      "execution_count": 57,
      "outputs": [
        {
          "output_type": "display_data",
          "data": {
            "image/png": "[encoded data removed]",
            "text/plain": [
              "<Figure size 432x288 with 1 Axes>"
            ]
          },
          "metadata": {
            "needs_background": "light"
          }
        }
      ]
    },
    {
      "cell_type": "code",
      "source": "",
      "metadata": {},
      "execution_count": null,
      "outputs": []
    },
    {
      "cell_type": "code",
      "source": "",
      "metadata": {},
      "execution_count": null,
      "outputs": []
    }
  ]
}